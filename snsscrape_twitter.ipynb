{
  "nbformat": 4,
  "nbformat_minor": 0,
  "metadata": {
    "colab": {
      "provenance": [],
      "collapsed_sections": [],
      "include_colab_link": true
    },
    "kernelspec": {
      "name": "python3",
      "display_name": "Python 3"
    },
    "language_info": {
      "name": "python"
    }
  },
  "cells": [
    {
      "cell_type": "markdown",
      "metadata": {
        "id": "view-in-github",
        "colab_type": "text"
      },
      "source": [
        "<a href=\"https://colab.research.google.com/github/dzikri200/snsscrape_twitter/blob/main/snsscrape_twitter.ipynb\" target=\"_parent\"><img src=\"https://colab.research.google.com/assets/colab-badge.svg\" alt=\"Open In Colab\"/></a>"
      ]
    },
    {
      "cell_type": "code",
      "source": [
        "!pip3 install snscrape"
      ],
      "metadata": {
        "colab": {
          "base_uri": "https://localhost:8080/"
        },
        "id": "jNbSzqhgNUkx",
        "outputId": "afbc6e43-55ab-468f-eed7-7a36e2eb706d"
      },
      "execution_count": null,
      "outputs": [
        {
          "output_type": "stream",
          "name": "stdout",
          "text": [
            "Looking in indexes: https://pypi.org/simple, https://us-python.pkg.dev/colab-wheels/public/simple/\n",
            "Collecting snscrape\n",
            "  Downloading snscrape-0.3.4-py3-none-any.whl (35 kB)\n",
            "Requirement already satisfied: requests[socks] in /usr/local/lib/python3.7/dist-packages (from snscrape) (2.23.0)\n",
            "Requirement already satisfied: beautifulsoup4 in /usr/local/lib/python3.7/dist-packages (from snscrape) (4.6.3)\n",
            "Requirement already satisfied: lxml in /usr/local/lib/python3.7/dist-packages (from snscrape) (4.9.1)\n",
            "Requirement already satisfied: certifi>=2017.4.17 in /usr/local/lib/python3.7/dist-packages (from requests[socks]->snscrape) (2022.9.24)\n",
            "Requirement already satisfied: urllib3!=1.25.0,!=1.25.1,<1.26,>=1.21.1 in /usr/local/lib/python3.7/dist-packages (from requests[socks]->snscrape) (1.24.3)\n",
            "Requirement already satisfied: chardet<4,>=3.0.2 in /usr/local/lib/python3.7/dist-packages (from requests[socks]->snscrape) (3.0.4)\n",
            "Requirement already satisfied: idna<3,>=2.5 in /usr/local/lib/python3.7/dist-packages (from requests[socks]->snscrape) (2.10)\n",
            "Requirement already satisfied: PySocks!=1.5.7,>=1.5.6 in /usr/local/lib/python3.7/dist-packages (from requests[socks]->snscrape) (1.7.1)\n",
            "Installing collected packages: snscrape\n",
            "Successfully installed snscrape-0.3.4\n"
          ]
        }
      ]
    },
    {
      "cell_type": "markdown",
      "source": [
        "snscrape adalah scraper untuk layanan jejaring sosial (SNS). Itu mengikis hal-hal seperti profil pengguna, tagar, atau pencarian dan mengembalikan item yang ditemukan, mis. pos-pos yang relevan. Layanan berikut saat ini didukung: Facebook: profil pengguna, grup, dan komunitas (alias pos pengunjung)"
      ],
      "metadata": {
        "id": "dybVHZDRx3vF"
      }
    },
    {
      "cell_type": "code",
      "source": [
        "pip install langdetect"
      ],
      "metadata": {
        "colab": {
          "base_uri": "https://localhost:8080/"
        },
        "id": "_cpGkLAoZegb",
        "outputId": "87bab23c-4d29-4f51-efe6-4e4154aa4bf8"
      },
      "execution_count": null,
      "outputs": [
        {
          "output_type": "stream",
          "name": "stdout",
          "text": [
            "Looking in indexes: https://pypi.org/simple, https://us-python.pkg.dev/colab-wheels/public/simple/\n",
            "Collecting langdetect\n",
            "  Downloading langdetect-1.0.9.tar.gz (981 kB)\n",
            "\u001b[K     |████████████████████████████████| 981 kB 4.0 MB/s \n",
            "\u001b[?25hRequirement already satisfied: six in /usr/local/lib/python3.7/dist-packages (from langdetect) (1.15.0)\n",
            "Building wheels for collected packages: langdetect\n",
            "  Building wheel for langdetect (setup.py) ... \u001b[?25l\u001b[?25hdone\n",
            "  Created wheel for langdetect: filename=langdetect-1.0.9-py3-none-any.whl size=993242 sha256=ef16db63068f8a15a958d5e9d0fe9aa2aeae7f72823017e29b4e4abbbc789e43\n",
            "  Stored in directory: /root/.cache/pip/wheels/c5/96/8a/f90c59ed25d75e50a8c10a1b1c2d4c402e4dacfa87f3aff36a\n",
            "Successfully built langdetect\n",
            "Installing collected packages: langdetect\n",
            "Successfully installed langdetect-1.0.9\n"
          ]
        }
      ]
    },
    {
      "cell_type": "markdown",
      "source": [
        "langdetect adalah implementasi ulang pustaka deteksi bahasa Google dari Java ke Python."
      ],
      "metadata": {
        "id": "cAmEHtY4yG7W"
      }
    },
    {
      "cell_type": "code",
      "source": [
        "import snscrape.modules.twitter as sntwitter\n",
        "import json\n",
        "from langdetect import detect"
      ],
      "metadata": {
        "id": "TXJV6YeeZihZ"
      },
      "execution_count": null,
      "outputs": []
    },
    {
      "cell_type": "markdown",
      "source": [
        "PROSES INI BERMANFAAT UNTUK MENGIMPOR MODUL SNSCRAPE UNTUK MENANGANI DATA YANG KITA DAPATKAN DARI TWITTER"
      ],
      "metadata": {
        "id": "69bwOMR6yRfh"
      }
    },
    {
      "cell_type": "code",
      "source": [
        "keywords=['Sepak bola indonesia']\n",
        "start=\"2022–10–01\"\n",
        "end =\"2022–10–31\"\n",
        "max_num=10\n",
        "fname='tweet.json' \n",
        "languages=['id']"
      ],
      "metadata": {
        "id": "_sPucD-vZsz1"
      },
      "execution_count": null,
      "outputs": []
    },
    {
      "cell_type": "markdown",
      "source": [
        "Memilih kata kunci di Twitter"
      ],
      "metadata": {
        "id": "S1zu-0KtyiAQ"
      }
    },
    {
      "cell_type": "code",
      "source": [
        "import pandas as pd\n",
        "datatw=[]"
      ],
      "metadata": {
        "id": "pf7ZIVlVzwy7"
      },
      "execution_count": null,
      "outputs": []
    },
    {
      "cell_type": "markdown",
      "source": [
        "Membuat Variabel \"datatw\" untuk, menampilkan hasil data yang  diambil di Twitter"
      ],
      "metadata": {
        "id": "VKBiFpaqymeA"
      }
    },
    {
      "cell_type": "code",
      "source": [
        "for keyword in keywords:\n",
        "   \n",
        "    for i, tweet in enumerate (sntwitter.TwitterSearchScraper(f'{keyword} ').get_items()):\n",
        "        \n",
        "        try:\n",
        "            lan=detect(tweet.content)\n",
        "        except:\n",
        "            lan='error'\n",
        "        if i == max_num:\n",
        "            break\n",
        "        if lan in languages:\n",
        "            data = {'id': tweet.id, 'username':tweet.username, 'date': tweet.date, 'text': tweet.content,'url':tweet.url}\n",
        "           # print(data)\n",
        "            datatw.append(tweet.content)\n",
        "            with open(fname, 'a+', encoding='utf-8') as f:\n",
        "                line = json.dumps(data, ensure_ascii=False,default=str)\n",
        "                #print(line)\n",
        "                f.write(line)\n",
        "                f.write('\\n')"
      ],
      "metadata": {
        "id": "1-8oNU5nZmMT"
      },
      "execution_count": null,
      "outputs": []
    },
    {
      "cell_type": "markdown",
      "source": [
        "Kemudian mulai crawling"
      ],
      "metadata": {
        "id": "ay_As6cHz2TQ"
      }
    },
    {
      "cell_type": "code",
      "source": [
        "datatw"
      ],
      "metadata": {
        "id": "ER2Zx6Y90jj1",
        "outputId": "5eef279d-777a-4f97-817e-d165c22d7be4",
        "colab": {
          "base_uri": "https://localhost:8080/"
        }
      },
      "execution_count": null,
      "outputs": [
        {
          "output_type": "execute_result",
          "data": {
            "text/plain": [
              "['#Kylian Mbappe#Hengkang#PSG!\\n\\nPemain sepak bola Prancis, Kylian Mbappe bersikeras tidak pernah meminta hengkang dari klub Paris Saint-Germain (PSG).\\n\\nhttps://t.co/Ju8qczhE0T',\n",
              " '@CNNIndonesia Reorganisasi PSSI dulu dgn yg benar benar profesional di bidangnya baru Sepak bola Indonesia maju 👌',\n",
              " 'Kita masih belum tau apakah ending dari bisnis sepak bola artis ini akan berakhir seperti kue artis yg pernah hits beberpa tahun yg lalu. \\n\\nTapi setidaknya ada angin segar utk memajukan sepak bola Indonesia dengan mengubah pakem tentang cara mengelola bisnis di industri sepakbola',\n",
              " '@sulaimaneffendi Usut tuntas itu utk membersihkan polisi dari oknum polisi.\\nUsut tuntas itu utk membersihkan aremania dari oknum aremania.\\n\\nAyo sam jaga kehormatan nama baik supporter sepak bola indonesia dg taat hukum.',\n",
              " 'Wes berkali2 pssi koyok ngene, ben ganti ketua pancet lek nyekel jabatan koyok wong sing wedhi kehilangan harta. Tapi wong2 sek terlena ambek dodolane psshit perkoro terlalu mencintai sepak bola Indonesia. Sek pancet mbok tontok ta ngono iku ngko... https://t.co/C0i2Pr5bDL',\n",
              " 'terinspirasi sepak bola indonesia https://t.co/0useaGUF4Q',\n",
              " 'Tragedi Kanjuruhan bukan hanya nestapa dunia sepak bola, tapi juga duka bagi seluruh bangsa Indonesia. Apa yang salah dengan sepak bola Indonesia? Cek video lebih lengkap di Youtube Harian Kompas: https://t.co/NKJHbYVKW2 \\n\\n#VideoCerita https://t.co/pRTErYgWV2',\n",
              " 'KONFEDERASI Sepak Bola Asia (AFC) menetapkan Qatar sebagai tuan rumah Piala Asia 2023. Qatar menyisihkan Korea Selatan dan Indonesia yang juga mencalonkan diri.  https://t.co/YoawaIoIL2',\n",
              " '@_kang_conqueror @AndiePeci setuju cak, semua dalang  01-10-22 harus di tindak semua termasuk aremania.kami aremania, semua di usut tuntas tanpa pandang bulu termasuk kepada aremania. cukup 132 yang meninggal dan luka2 teman kami yg jadi martir untuk perubahan aremania dan sepak bola indonesia ke lebih baik',\n",
              " 'Ini waktunya sepak bola Indonesia Berbenah Total\\n#pssi #fifa #indonesiamaju #indonesiamerdeka \\n#erthoforwapres #erickthohir #erickthohirwapres #erickthohirsolusirakyat https://t.co/cIjR9e3EPG']"
            ]
          },
          "metadata": {},
          "execution_count": 8
        }
      ]
    },
    {
      "cell_type": "markdown",
      "source": [
        "Menampilkan datatw yang tersimpan di csv"
      ],
      "metadata": {
        "id": "M75jaSXAz_M-"
      }
    },
    {
      "cell_type": "code",
      "source": [
        "!pip install Sastrawi"
      ],
      "metadata": {
        "id": "xeqqY0rz3165",
        "outputId": "a3007724-a227-49ad-f6c7-738d012b9e7b",
        "colab": {
          "base_uri": "https://localhost:8080/"
        }
      },
      "execution_count": null,
      "outputs": [
        {
          "output_type": "stream",
          "name": "stdout",
          "text": [
            "Looking in indexes: https://pypi.org/simple, https://us-python.pkg.dev/colab-wheels/public/simple/\n",
            "Collecting Sastrawi\n",
            "  Downloading Sastrawi-1.0.1-py2.py3-none-any.whl (209 kB)\n",
            "\u001b[K     |████████████████████████████████| 209 kB 4.4 MB/s \n",
            "\u001b[?25hInstalling collected packages: Sastrawi\n",
            "Successfully installed Sastrawi-1.0.1\n"
          ]
        }
      ]
    },
    {
      "cell_type": "markdown",
      "source": [
        "Kemudian install sastrawi<br>\n",
        "Python Sastrawi adalah pengembangan dari proyek PHP Sastrawi. Python Sastrawi merupakan library sederhana yang dapat mengubah kata berimbuhan bahasa Indonesia menjadi bentuk dasarnya. Sastrawi juga dapat diinstal melalui “pip”."
      ],
      "metadata": {
        "id": "Tvc4ot1O0Dw7"
      }
    },
    {
      "cell_type": "code",
      "source": [
        "import re\n",
        "import string\n",
        "from Sastrawi.Stemmer.StemmerFactory import StemmerFactory# create stemmer\n",
        "factory = StemmerFactory()\n",
        "stemmer = factory.create_stemmer()# stemming process\n",
        "# import StopWordRemoverFactory class\n",
        "from Sastrawi.StopWordRemover.StopWordRemoverFactory import StopWordRemoverFactory\n",
        "factory = StopWordRemoverFactory()\n",
        "stopword = factory.create_stop_word_remover()\n",
        "documents_clean=[]\n",
        "\n",
        "for d in datatw:\n",
        "    outputstem= stemmer.stem(d)\n",
        "    d= stopword.remove(outputstem)\n",
        "    # Remove Unicode\n",
        "    document_test = re.sub(r'[^\\x00-\\x7F]+', ' ', d)\n",
        "    # Remove Mentions\n",
        "    document_test = re.sub(r'@\\w+', '', document_test)\n",
        "    # Lowercase the document\n",
        "    document_test = document_test.lower()\n",
        "    # Remove punctuations\n",
        "    document_test = re.sub(r'[%s]' % re.escape(string.punctuation), ' ', document_test)\n",
        "    # Lowercase the numbers\n",
        "    document_test = re.sub(r'[0-9]', '', document_test)\n",
        "    # Remove the doubled space\n",
        "    outputstop = re.sub(r'\\s{2,}', ' ', document_test)\n",
        "    documents_clean.append(outputstop)"
      ],
      "metadata": {
        "id": "yhu7e8JA3pz9"
      },
      "execution_count": null,
      "outputs": []
    },
    {
      "cell_type": "markdown",
      "source": [
        "Proses Stemming\n",
        "Proses stemming adalah proses mengubah kata berimbuhan menjadi kata dasar. Misalnya kata memakan menjadi makan,"
      ],
      "metadata": {
        "id": "2pkOD9r-05Fb"
      }
    },
    {
      "cell_type": "code",
      "source": [
        "documents_clean[0:5]"
      ],
      "metadata": {
        "colab": {
          "base_uri": "https://localhost:8080/"
        },
        "id": "iAosBcPH7UXV",
        "outputId": "15fa139a-152c-49f1-d4ac-c43fe03f3d83"
      },
      "execution_count": null,
      "outputs": [
        {
          "output_type": "execute_result",
          "data": {
            "text/plain": [
              "['kylian mbappe hengkang psg main sepak bola prancis kylian mbappe sikeras pernah minta hengkang klub paris saint germain psg https t co juqczhet',\n",
              " 'cnnindonesia reorganisasi pssi dulu dgn yg benar benar profesional bidang baru sepak bola indonesia maju',\n",
              " 'masih tau ending bisnis sepak bola artis akan akhir kue artis yg pernah hits beberpa tahun yg lalu tidak angin segar utk maju sepak bola indonesia ubah pakem cara kelola bisnis industri sepakbola',\n",
              " 'sulaimaneffendi usut tuntas utk bersih polisi oknum polisi usut tuntas utk bersih aremania oknum aremania ayo sam jaga hormat nama baik supporter sepak bola indonesia dg taat hukum',\n",
              " 'wes berkali pssi koyok ngene ben ganti ketua pancet lek nyekel jabat koyok wong sing wedhi hilang harta wong sek lena ambek dodolane psshit perkoro terlalu cinta sepak bola indonesia sek pancet mbok tontok ta ngono iku ngko https t co ciprbdl']"
            ]
          },
          "metadata": {},
          "execution_count": 11
        }
      ]
    },
    {
      "cell_type": "markdown",
      "source": [
        "documents_clean untuk menghapus semua karakter tidak dapat dicetak dari teks"
      ],
      "metadata": {
        "id": "K8YPcJQc1n4W"
      }
    },
    {
      "cell_type": "code",
      "source": [
        "from sklearn.feature_extraction.text import TfidfVectorizer\n",
        "import pandas as pd\n",
        "tfidfvectorizer = TfidfVectorizer(analyzer='word')\n",
        "tfidf_wm = tfidfvectorizer.fit_transform(documents_clean)\n",
        "tfidf_tokens = tfidfvectorizer.get_feature_names()"
      ],
      "metadata": {
        "id": "TFAzdz5l7fny",
        "colab": {
          "base_uri": "https://localhost:8080/"
        },
        "outputId": "b9190333-3b92-4f03-cade-993c0542127f"
      },
      "execution_count": null,
      "outputs": [
        {
          "output_type": "stream",
          "name": "stderr",
          "text": [
            "/usr/local/lib/python3.7/dist-packages/sklearn/utils/deprecation.py:87: FutureWarning: Function get_feature_names is deprecated; get_feature_names is deprecated in 1.0 and will be removed in 1.2. Please use get_feature_names_out instead.\n",
            "  warnings.warn(msg, category=FutureWarning)\n"
          ]
        }
      ]
    },
    {
      "cell_type": "markdown",
      "source": [
        "tf-idf digunakan untuk mengklasifikasikan dokumen, peringkat di mesin pencari. tf: term frequency (jumlah kata yang ada dalam dokumen dari kosakatanya sendiri), idf: frekuensi dokumen terbalik (pentingnya kata untuk setiap dokumen)."
      ],
      "metadata": {
        "id": "KbIHswAV2Lzl"
      }
    },
    {
      "cell_type": "code",
      "source": [
        "from sklearn.feature_extraction.text import CountVectorizer \n",
        "import matplotlib.pyplot as plt\n",
        "import numpy as np # linear algebra\n",
        "import pandas as pd # data processing, CSV file I/O (e.g. pd.read_csv)\n",
        "cv = CountVectorizer()\n",
        "words = cv.fit_transform(documents_clean)\n",
        "sum_words = words.sum(axis=0)\n",
        "\n",
        "\n",
        "words_freq = [(word, sum_words[0, idx]) for word, idx in cv.vocabulary_.items()]\n",
        "words_freq = sorted(words_freq, key = lambda x: x[1], reverse = True)\n",
        "frequency = pd.DataFrame(words_freq, columns=['word', 'freq'])\n",
        "\n",
        "color = plt.cm.twilight(np.linspace(0, 1, 20))\n",
        "frequency.head(20).plot(x='word', y='freq', kind='bar', figsize=(15, 7), color = color)\n",
        "plt.title(\"Most Frequently Occuring Words - Top 20\")"
      ],
      "metadata": {
        "colab": {
          "base_uri": "https://localhost:8080/",
          "height": 515
        },
        "id": "6tAlRaya7jW6",
        "outputId": "adde26ab-3515-48a0-b379-2796626d4f72"
      },
      "execution_count": null,
      "outputs": [
        {
          "output_type": "execute_result",
          "data": {
            "text/plain": [
              "Text(0.5, 1.0, 'Most Frequently Occuring Words - Top 20')"
            ]
          },
          "metadata": {},
          "execution_count": 13
        },
        {
          "output_type": "display_data",
          "data": {
            "text/plain": [
              "<Figure size 1080x504 with 1 Axes>"
            ],
            "image/png": "[encoded data removed]"
          },
          "metadata": {
            "needs_background": "light"
          }
        }
      ]
    },
    {
      "cell_type": "markdown",
      "source": [
        "list daftar kata-kata yang paling umum dari corpus teks menggunakan Scikit-Learn"
      ],
      "metadata": {
        "id": "XoNqWvBb2us3"
      }
    },
    {
      "cell_type": "code",
      "source": [
        "from sklearn.cluster import KMeans\n",
        "true_k = 3\n",
        "model = KMeans(n_clusters=true_k, init='k-means++', max_iter=100, n_init=1)\n",
        "model.fit(words)"
      ],
      "metadata": {
        "colab": {
          "base_uri": "https://localhost:8080/"
        },
        "id": "wV7BeAZx7n4h",
        "outputId": "5d959e0c-2d62-479e-a427-908671793c35"
      },
      "execution_count": null,
      "outputs": [
        {
          "output_type": "execute_result",
          "data": {
            "text/plain": [
              "KMeans(max_iter=100, n_clusters=3, n_init=1)"
            ]
          },
          "metadata": {},
          "execution_count": 14
        }
      ]
    },
    {
      "cell_type": "markdown",
      "source": [
        "Clustering Algoritma (K-Means) memiliki tujuan untuk meminimalisasikan fungsi objective yang telah di set dalam proses clustering. Tujuan tersebut dilakukan dengan cara meminimalikan variasi data yang ada didalam cluster dan memaksimalikan variasi data yang ada di cluster lainnya."
      ],
      "metadata": {
        "id": "ISMpFHTX3bnF"
      }
    },
    {
      "cell_type": "code",
      "source": [
        "order_centroids = model.cluster_centers_.argsort()[:, ::-1]\n",
        "terms = cv.get_feature_names()\n",
        "\n",
        "for i in range(true_k):\n",
        "    print(\"Cluster %d:\" % i),\n",
        "    for ind in order_centroids[i, :10]:\n",
        "        print(' %s' % terms[ind]),\n",
        "    print\n",
        "\n",
        "print(\"\\n\")"
      ],
      "metadata": {
        "colab": {
          "base_uri": "https://localhost:8080/"
        },
        "id": "Dc3XaMeK7sfD",
        "outputId": "b6b0554e-8ea5-4432-b110-ab450274a47d"
      },
      "execution_count": null,
      "outputs": [
        {
          "output_type": "stream",
          "name": "stdout",
          "text": [
            "Cluster 0:\n",
            " sepak\n",
            " bola\n",
            " indonesia\n",
            " https\n",
            " co\n",
            " yg\n",
            " pssi\n",
            " kylian\n",
            " benar\n",
            " psg\n",
            "Cluster 1:\n",
            " aremania\n",
            " semua\n",
            " masuk\n",
            " tinggal\n",
            " dalang\n",
            " martir\n",
            " bola\n",
            " luka\n",
            " teman\n",
            " indonesia\n",
            "Cluster 2:\n",
            " polisi\n",
            " utk\n",
            " bersih\n",
            " tuntas\n",
            " usut\n",
            " aremania\n",
            " oknum\n",
            " nama\n",
            " sulaimaneffendi\n",
            " indonesia\n",
            "\n",
            "\n"
          ]
        },
        {
          "output_type": "stream",
          "name": "stderr",
          "text": [
            "/usr/local/lib/python3.7/dist-packages/sklearn/utils/deprecation.py:87: FutureWarning: Function get_feature_names is deprecated; get_feature_names is deprecated in 1.0 and will be removed in 1.2. Please use get_feature_names_out instead.\n",
            "  warnings.warn(msg, category=FutureWarning)\n"
          ]
        }
      ]
    },
    {
      "cell_type": "markdown",
      "source": [
        "LAKUKAN ORDER CENTROID, UNTUK mendistribusikan HASIL UNTUK SETIAP CLUSTER"
      ],
      "metadata": {
        "id": "xIxjuDLh3_1l"
      }
    },
    {
      "cell_type": "code",
      "source": [
        "print(\"Prediction\")\n",
        "Y = cv.transform([\"sepak bola\"])\n",
        "prediction = model.predict(Y)\n",
        "print(\"Cluster number :\", prediction)\n",
        "Y = cv.transform([\"aremania\"])\n",
        "prediction = model.predict(Y)\n",
        "print(\"Cluster number :\", prediction)"
      ],
      "metadata": {
        "colab": {
          "base_uri": "https://localhost:8080/"
        },
        "id": "FmKsq36Z7vRK",
        "outputId": "bc6d9e86-0c0b-46b6-dc5f-879d399c8a45"
      },
      "execution_count": null,
      "outputs": [
        {
          "output_type": "stream",
          "name": "stdout",
          "text": [
            "Prediction\n",
            "Cluster number : [0]\n",
            "Cluster number : [0]\n"
          ]
        }
      ]
    },
    {
      "cell_type": "markdown",
      "source": [
        "setelah melakukan cluster kita bisa juga melakukan prediction kata tersebut masuk ke cluster berapa seperti contoh dibawah ini"
      ],
      "metadata": {
        "id": "4FOLU9WZ4cG1"
      }
    },
    {
      "cell_type": "code",
      "source": [
        "import scipy.cluster.hierarchy as sch\n",
        "X = cv.fit_transform(documents_clean).todense()\n",
        "dendrogram = sch.dendrogram(sch.linkage(X, method = 'ward',metric='euclidean'),orientation=\"top\")\n",
        "plt.title('Dendrogram')\n",
        "plt.xlabel('Jarak Ward')\n",
        "plt.ylabel('Nomor Dokumen')\n",
        "plt.show()"
      ],
      "metadata": {
        "colab": {
          "base_uri": "https://localhost:8080/",
          "height": 298
        },
        "id": "eccx58QO7z1Z",
        "outputId": "884877a6-bbc1-4068-9162-c304f2308ac0"
      },
      "execution_count": null,
      "outputs": [
        {
          "output_type": "display_data",
          "data": {
            "text/plain": [
              "<Figure size 432x288 with 1 Axes>"
            ],
            "image/png": "[encoded data removed]"
          },
          "metadata": {
            "needs_background": "light"
          }
        }
      ]
    },
    {
      "cell_type": "markdown",
      "source": [
        "lalu kita buat diagram/dendogram menggunakan method \"ward\" seperti ini"
      ],
      "metadata": {
        "id": "WGjbLpwp4jZp"
      }
    },
    {
      "cell_type": "code",
      "source": [
        "import scipy.cluster.hierarchy as sch\n",
        "X = cv.fit_transform(documents_clean).todense()\n",
        "dendrogram = sch.dendrogram(sch.linkage(X, method = 'average',metric='euclidean'),orientation=\"right\")\n",
        "plt.title('Dendrogram')\n",
        "plt.xlabel('Jarak Rerata')\n",
        "plt.ylabel('Nomor Dokumen')\n",
        "plt.show()"
      ],
      "metadata": {
        "colab": {
          "base_uri": "https://localhost:8080/",
          "height": 295
        },
        "id": "ohxx4jwn72yJ",
        "outputId": "3d3b36f0-d48f-4801-c4b9-f2210a30bfd1"
      },
      "execution_count": null,
      "outputs": [
        {
          "output_type": "display_data",
          "data": {
            "text/plain": [
              "<Figure size 432x288 with 1 Axes>"
            ],
            "image/png": "[encoded data removed]"
          },
          "metadata": {
            "needs_background": "light"
          }
        }
      ]
    },
    {
      "cell_type": "markdown",
      "source": [
        "Fungsi-fungsi ini memotong pengelompokan hierarki menjadi pengelompokan datar atau menemukan akar hutan yang dibentuk oleh potongan dengan memberikan id cluster datar dari setiap pengamatan."
      ],
      "metadata": {
        "id": "kgG94Gs345Xe"
      }
    },
    {
      "cell_type": "markdown",
      "source": [
        "https://www.freecodecamp.org/news/python-web-scraping-tutorial/\n",
        "https://medium.com/dataseries/how-to-scrape-millions-of-tweets-using-snscrape-195ee3594721"
      ],
      "metadata": {
        "id": "gnHGGgt2M-ia"
      }
    }
  ]
}